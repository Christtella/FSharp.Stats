{
 "cells": [
  {
   "cell_type": "markdown",
   "metadata": {},
   "source": [
    "To reproduce the package, run `./Repack.ps1` in powershell. It will clean your cache in `~/.nuget/packages` and pack the library to `FSharp.Stats/pkg` folder, which you should specify below (absolute paths only) in `#i` line.\n",
    "\n",
    "The version of the package is always `0.0.0-dev`.\n",
    "\n",
    "To re-run the build/repack you have to restart the notebook kernel, otherwise we cannot remove the referenced local nuget package."
   ]
  },
  {
   "cell_type": "code",
   "execution_count": null,
   "metadata": {
    "dotnet_interactive": {
     "language": "fsharp"
    },
    "vscode": {
     "languageId": "dotnet-interactive.fsharp"
    }
   },
   "outputs": [
    {
     "data": {
      "text/html": [
       "<div><div><strong>Restore sources</strong><ul><li><span> C:/Users/schne/source/repos/fslaborg/FSharp.Stats/pkg</span></li></ul></div><div></div><div><strong>Installed Packages</strong><ul><li><span>FSharp.Stats, 0.0.0-dev</span></li><li><span>FSharp.Stats.Interactive, 0.0.0-dev</span></li></ul></div></div>"
      ]
     },
     "metadata": {},
     "output_type": "display_data"
    }
   ],
   "source": [
    "// be advised, that you always should set absolute paths for local nuget packages - change this to reflect your own setup\n",
    "#i \"nuget: C:/Users/schne/source/repos/fslaborg/FSharp.Stats/pkg\"\n",
    "#r \"nuget: FSharp.Stats, 0.0.0-dev\"\n",
    "#r \"nuget: FSharp.Stats.Interactive, 0.0.0-dev\""
   ]
  },
  {
   "cell_type": "markdown",
   "metadata": {
    "dotnet_interactive": {
     "language": "fsharp"
    }
   },
   "source": [
    "## Matrix Formatting"
   ]
  },
  {
   "cell_type": "code",
   "execution_count": null,
   "metadata": {
    "dotnet_interactive": {
     "language": "fsharp"
    },
    "vscode": {
     "languageId": "dotnet-interactive.fsharp"
    }
   },
   "outputs": [],
   "source": [
    "open FSharp.Stats\n",
    "\n",
    "let m = Matrix.init 5 5 (fun i j -> float i * float j)\n"
   ]
  },
  {
   "cell_type": "code",
   "execution_count": null,
   "metadata": {
    "dotnet_interactive": {
     "language": "fsharp"
    },
    "vscode": {
     "languageId": "dotnet-interactive.fsharp"
    }
   },
   "outputs": [
    {
     "data": {
      "text/html": [
       "<div>\r\n",
       "<style scoped>,\r\n",
       "  .dataframe tbody tr th:only-of-type {\r\n",
       "    vertical-align: middle;\r\n",
       "  }\r\n",
       "  .dataframe tbody tr th {,\r\n",
       "    vertical-align: top\r\n",
       "  }\r\n",
       "  .dataframe thead th {\r\n",
       "    text-align: right;\r\n",
       "  }\r\n",
       "  .no-wrap {\r\n",
       "    white-space: nowrap;\r\n",
       "  }\r\n",
       "</style>\r\n",
       "<table border='1' class='dataframe'>\r\n",
       "<thead><thead><th></th><th></th><th>0</th><th>1</th><th>2</th><th>3</th><th>4</th><th>5</th><th>6</th><th>7</th><th>8</th><th>9</th></thead></thead>\r\n",
       "<tbody><tr><td><b>0</b></td><td class=\"no-wrap\">-></td><td>0.000</td><td>0.000</td><td>0.000</td><td>0.000</td><td>0.000</td><td>0.000</td><td>0.000</td><td>0.000</td><td>0.000</td><td>0.000</td></tr><tr><td><b>1</b></td><td class=\"no-wrap\">-></td><td>0.000</td><td>1.000</td><td>2.000</td><td>3.000</td><td>4.000</td><td>5.000</td><td>6.000</td><td>7.000</td><td>8.000</td><td>9.000</td></tr><tr><td><b>2</b></td><td class=\"no-wrap\">-></td><td>0.000</td><td>2.000</td><td>4.000</td><td>6.000</td><td>8.000</td><td>10.000</td><td>12.000</td><td>14.000</td><td>16.000</td><td>18.000</td></tr><tr><td><b>3</b></td><td class=\"no-wrap\">-></td><td>0.000</td><td>3.000</td><td>6.000</td><td>9.000</td><td>12.000</td><td>15.000</td><td>18.000</td><td>21.000</td><td>24.000</td><td>27.000</td></tr><tr><td><b>4</b></td><td class=\"no-wrap\">-></td><td>0.000</td><td>4.000</td><td>8.000</td><td>12.000</td><td>16.000</td><td>20.000</td><td>24.000</td><td>28.000</td><td>32.000</td><td>36.000</td></tr><tr><td><b>:</b></td><td class=\"no-wrap\"></td><td>...</td><td>...</td><td>...</td><td>...</td><td>...</td><td>...</td><td>...</td><td>...</td><td>...</td><td>...</td></tr><tr><td><b>95</b></td><td class=\"no-wrap\">-></td><td>0.000</td><td>95.000</td><td>190.000</td><td>285.000</td><td>380.000</td><td>475.000</td><td>570.000</td><td>665.000</td><td>760.000</td><td>855.000</td></tr><tr><td><b>96</b></td><td class=\"no-wrap\">-></td><td>0.000</td><td>96.000</td><td>192.000</td><td>288.000</td><td>384.000</td><td>480.000</td><td>576.000</td><td>672.000</td><td>768.000</td><td>864.000</td></tr><tr><td><b>97</b></td><td class=\"no-wrap\">-></td><td>0.000</td><td>97.000</td><td>194.000</td><td>291.000</td><td>388.000</td><td>485.000</td><td>582.000</td><td>679.000</td><td>776.000</td><td>873.000</td></tr><tr><td><b>98</b></td><td class=\"no-wrap\">-></td><td>0.000</td><td>98.000</td><td>196.000</td><td>294.000</td><td>392.000</td><td>490.000</td><td>588.000</td><td>686.000</td><td>784.000</td><td>882.000</td></tr><tr><td><b>99</b></td><td class=\"no-wrap\">-></td><td>0.000</td><td>99.000</td><td>198.000</td><td>297.000</td><td>396.000</td><td>495.000</td><td>594.000</td><td>693.000</td><td>792.000</td><td>891.000</td></tr></tbody>\r\n",
       "</table>\r\n",
       "<br>\r\n",
       "Matrix of 100 rows x 10 columns\r\n",
       "</div>\r\n"
      ]
     },
     "metadata": {},
     "output_type": "display_data"
    }
   ],
   "source": [
    "Matrix.init 100 10 (fun i j -> float i * float j )\n"
   ]
  },
  {
   "cell_type": "code",
   "execution_count": null,
   "metadata": {
    "dotnet_interactive": {
     "language": "fsharp"
    },
    "vscode": {
     "languageId": "dotnet-interactive.fsharp"
    }
   },
   "outputs": [
    {
     "data": {
      "text/html": [
       "<div>\r\n",
       "<style scoped>,\r\n",
       "  .dataframe tbody tr th:only-of-type {\r\n",
       "    vertical-align: middle;\r\n",
       "  }\r\n",
       "  .dataframe tbody tr th {,\r\n",
       "    vertical-align: top\r\n",
       "  }\r\n",
       "  .dataframe thead th {\r\n",
       "    text-align: right;\r\n",
       "  }\r\n",
       "  .no-wrap {\r\n",
       "    white-space: nowrap;\r\n",
       "  }\r\n",
       "</style>\r\n",
       "<table border='1' class='dataframe'>\r\n",
       "<thead><thead><th></th><th></th><th>0</th><th>1</th><th>2</th><th>3</th><th>4</th><th>5</th><th>6</th><th>7</th><th>8</th><th>9</th><th>...</th><th>990</th><th>991</th><th>992</th><th>993</th><th>994</th><th>995</th><th>996</th><th>997</th><th>998</th><th>999</th></thead></thead>\r\n",
       "<tbody><tr><td><b>0</b></td><td class=\"no-wrap\">-></td><td>0.000</td><td>1.000</td><td>2.000</td><td>3.000</td><td>4.000</td><td>5.000</td><td>6.000</td><td>7.000</td><td>8.000</td><td>9.000</td><td>...</td><td>0.000</td><td>0.000</td><td>0.000</td><td>0.000</td><td>0.000</td><td>0.000</td><td>0.000</td><td>0.000</td><td>0.000</td><td>0.000</td></tr><tr><td><b>1</b></td><td class=\"no-wrap\">-></td><td>0.000</td><td>2.000</td><td>4.000</td><td>6.000</td><td>8.000</td><td>10.000</td><td>12.000</td><td>14.000</td><td>16.000</td><td>18.000</td><td>...</td><td>990.000</td><td>991.000</td><td>992.000</td><td>993.000</td><td>994.000</td><td>995.000</td><td>996.000</td><td>997.000</td><td>998.000</td><td>999.000</td></tr><tr><td><b>2</b></td><td class=\"no-wrap\">-></td><td>0.000</td><td>3.000</td><td>6.000</td><td>9.000</td><td>12.000</td><td>15.000</td><td>18.000</td><td>21.000</td><td>24.000</td><td>27.000</td><td>...</td><td>1980.000</td><td>1982.000</td><td>1984.000</td><td>1986.000</td><td>1988.000</td><td>1990.000</td><td>1992.000</td><td>1994.000</td><td>1996.000</td><td>1998.000</td></tr><tr><td><b>3</b></td><td class=\"no-wrap\">-></td><td>0.000</td><td>4.000</td><td>8.000</td><td>12.000</td><td>16.000</td><td>20.000</td><td>24.000</td><td>28.000</td><td>32.000</td><td>36.000</td><td>...</td><td>2970.000</td><td>2973.000</td><td>2976.000</td><td>2979.000</td><td>2982.000</td><td>2985.000</td><td>2988.000</td><td>2991.000</td><td>2994.000</td><td>2997.000</td></tr><tr><td><b>4</b></td><td class=\"no-wrap\">-></td><td>0.000</td><td>5.000</td><td>10.000</td><td>15.000</td><td>20.000</td><td>25.000</td><td>30.000</td><td>35.000</td><td>40.000</td><td>45.000</td><td>...</td><td>3960.000</td><td>3964.000</td><td>3968.000</td><td>3972.000</td><td>3976.000</td><td>3980.000</td><td>3984.000</td><td>3988.000</td><td>3992.000</td><td>3996.000</td></tr><tr><td><b>:</b></td><td class=\"no-wrap\"></td><td>...</td><td>...</td><td>...</td><td>...</td><td>...</td><td>...</td><td>...</td><td>...</td><td>...</td><td>...</td><td>...</td><td>...</td><td>...</td><td>...</td><td>...</td><td>...</td><td>...</td><td>...</td><td>...</td><td>...</td><td>...</td></tr><tr><td><b>995</b></td><td class=\"no-wrap\">-></td><td>1990.000</td><td>2985.000</td><td>3980.000</td><td>4975.000</td><td>5970.000</td><td>6965.000</td><td>7960.000</td><td>8955.000</td><td>9950.000</td><td>1.1e+04</td><td>...</td><td>9.9e+05</td><td>9.9e+05</td><td>9.9e+05</td><td>9.9e+05</td><td>9.9e+05</td><td>9.9e+05</td><td>9.9e+05</td><td>9.9e+05</td><td>9.9e+05</td><td>9.9e+05</td></tr><tr><td><b>996</b></td><td class=\"no-wrap\">-></td><td>1992.000</td><td>2988.000</td><td>3984.000</td><td>4980.000</td><td>5976.000</td><td>6972.000</td><td>7968.000</td><td>8964.000</td><td>9960.000</td><td>1.1e+04</td><td>...</td><td>9.9e+05</td><td>9.9e+05</td><td>9.9e+05</td><td>9.9e+05</td><td>9.9e+05</td><td>9.9e+05</td><td>9.9e+05</td><td>9.9e+05</td><td>9.9e+05</td><td>1e+06</td></tr><tr><td><b>997</b></td><td class=\"no-wrap\">-></td><td>1994.000</td><td>2991.000</td><td>3988.000</td><td>4985.000</td><td>5982.000</td><td>6979.000</td><td>7976.000</td><td>8973.000</td><td>9970.000</td><td>1.1e+04</td><td>...</td><td>9.9e+05</td><td>9.9e+05</td><td>9.9e+05</td><td>9.9e+05</td><td>9.9e+05</td><td>9.9e+05</td><td>9.9e+05</td><td>9.9e+05</td><td>1e+06</td><td>1e+06</td></tr><tr><td><b>998</b></td><td class=\"no-wrap\">-></td><td>1996.000</td><td>2994.000</td><td>3992.000</td><td>4990.000</td><td>5988.000</td><td>6986.000</td><td>7984.000</td><td>8982.000</td><td>9980.000</td><td>1.1e+04</td><td>...</td><td>9.9e+05</td><td>9.9e+05</td><td>9.9e+05</td><td>9.9e+05</td><td>9.9e+05</td><td>9.9e+05</td><td>9.9e+05</td><td>1e+06</td><td>1e+06</td><td>1e+06</td></tr><tr><td><b>999</b></td><td class=\"no-wrap\">-></td><td>1998.000</td><td>2997.000</td><td>3996.000</td><td>4995.000</td><td>5994.000</td><td>6993.000</td><td>7992.000</td><td>8991.000</td><td>9990.000</td><td>1.1e+04</td><td>...</td><td>9.9e+05</td><td>9.9e+05</td><td>9.9e+05</td><td>9.9e+05</td><td>9.9e+05</td><td>9.9e+05</td><td>1e+06</td><td>1e+06</td><td>1e+06</td><td>1e+06</td></tr></tbody>\r\n",
       "</table>\r\n",
       "<br>\r\n",
       "Matrix of 1000 rows x 1000 columns\r\n",
       "</div>\r\n"
      ]
     },
     "metadata": {},
     "output_type": "display_data"
    }
   ],
   "source": [
    "Matrix.init 1000 1000 (fun i j -> float i * float j )"
   ]
  },
  {
   "cell_type": "code",
   "execution_count": null,
   "metadata": {
    "dotnet_interactive": {
     "language": "fsharp"
    },
    "vscode": {
     "languageId": "dotnet-interactive.fsharp"
    }
   },
   "outputs": [
    {
     "data": {
      "text/html": [
       "<div>\r\n",
       "<style scoped>,\r\n",
       "  .dataframe tbody tr th:only-of-type {\r\n",
       "    vertical-align: middle;\r\n",
       "  }\r\n",
       "  .dataframe tbody tr th {,\r\n",
       "    vertical-align: top\r\n",
       "  }\r\n",
       "  .dataframe thead th {\r\n",
       "    text-align: right;\r\n",
       "  }\r\n",
       "  .no-wrap {\r\n",
       "    white-space: nowrap;\r\n",
       "  }\r\n",
       "</style>\r\n",
       "<table border='1' class='dataframe'>\r\n",
       "<thead><thead><th></th><th></th><th>0</th><th>1</th><th>2</th><th>3</th><th>4</th><th>5</th><th>6</th><th>7</th><th>8</th><th>9</th><th>...</th><th>90</th><th>91</th><th>92</th><th>93</th><th>94</th><th>95</th><th>96</th><th>97</th><th>98</th><th>99</th></thead></thead>\r\n",
       "<tbody><tr><td><b>0</b></td><td class=\"no-wrap\">-></td><td>0.000</td><td>1.000</td><td>2.000</td><td>3.000</td><td>4.000</td><td>5.000</td><td>6.000</td><td>7.000</td><td>8.000</td><td>9.000</td><td>...</td><td>0.000</td><td>0.000</td><td>0.000</td><td>0.000</td><td>0.000</td><td>0.000</td><td>0.000</td><td>0.000</td><td>0.000</td><td>0.000</td></tr><tr><td><b>1</b></td><td class=\"no-wrap\">-></td><td>0.000</td><td>2.000</td><td>4.000</td><td>6.000</td><td>8.000</td><td>10.000</td><td>12.000</td><td>14.000</td><td>16.000</td><td>18.000</td><td>...</td><td>90.000</td><td>91.000</td><td>92.000</td><td>93.000</td><td>94.000</td><td>95.000</td><td>96.000</td><td>97.000</td><td>98.000</td><td>99.000</td></tr><tr><td><b>2</b></td><td class=\"no-wrap\">-></td><td>0.000</td><td>3.000</td><td>6.000</td><td>9.000</td><td>12.000</td><td>15.000</td><td>18.000</td><td>21.000</td><td>24.000</td><td>27.000</td><td>...</td><td>180.000</td><td>182.000</td><td>184.000</td><td>186.000</td><td>188.000</td><td>190.000</td><td>192.000</td><td>194.000</td><td>196.000</td><td>198.000</td></tr><tr><td><b>3</b></td><td class=\"no-wrap\">-></td><td>0.000</td><td>4.000</td><td>8.000</td><td>12.000</td><td>16.000</td><td>20.000</td><td>24.000</td><td>28.000</td><td>32.000</td><td>36.000</td><td>...</td><td>270.000</td><td>273.000</td><td>276.000</td><td>279.000</td><td>282.000</td><td>285.000</td><td>288.000</td><td>291.000</td><td>294.000</td><td>297.000</td></tr><tr><td><b>4</b></td><td class=\"no-wrap\">-></td><td>0.000</td><td>5.000</td><td>10.000</td><td>15.000</td><td>20.000</td><td>25.000</td><td>30.000</td><td>35.000</td><td>40.000</td><td>45.000</td><td>...</td><td>360.000</td><td>364.000</td><td>368.000</td><td>372.000</td><td>376.000</td><td>380.000</td><td>384.000</td><td>388.000</td><td>392.000</td><td>396.000</td></tr><tr><td><b>:</b></td><td class=\"no-wrap\"></td><td>...</td><td>...</td><td>...</td><td>...</td><td>...</td><td>...</td><td>...</td><td>...</td><td>...</td><td>...</td><td>...</td><td>...</td><td>...</td><td>...</td><td>...</td><td>...</td><td>...</td><td>...</td><td>...</td><td>...</td><td>...</td></tr><tr><td><b>95</b></td><td class=\"no-wrap\">-></td><td>190.000</td><td>285.000</td><td>380.000</td><td>475.000</td><td>570.000</td><td>665.000</td><td>760.000</td><td>855.000</td><td>950.000</td><td>1045.000</td><td>...</td><td>8550.000</td><td>8645.000</td><td>8740.000</td><td>8835.000</td><td>8930.000</td><td>9025.000</td><td>9120.000</td><td>9215.000</td><td>9310.000</td><td>9405.000</td></tr><tr><td><b>96</b></td><td class=\"no-wrap\">-></td><td>192.000</td><td>288.000</td><td>384.000</td><td>480.000</td><td>576.000</td><td>672.000</td><td>768.000</td><td>864.000</td><td>960.000</td><td>1056.000</td><td>...</td><td>8640.000</td><td>8736.000</td><td>8832.000</td><td>8928.000</td><td>9024.000</td><td>9120.000</td><td>9216.000</td><td>9312.000</td><td>9408.000</td><td>9504.000</td></tr><tr><td><b>97</b></td><td class=\"no-wrap\">-></td><td>194.000</td><td>291.000</td><td>388.000</td><td>485.000</td><td>582.000</td><td>679.000</td><td>776.000</td><td>873.000</td><td>970.000</td><td>1067.000</td><td>...</td><td>8730.000</td><td>8827.000</td><td>8924.000</td><td>9021.000</td><td>9118.000</td><td>9215.000</td><td>9312.000</td><td>9409.000</td><td>9506.000</td><td>9603.000</td></tr><tr><td><b>98</b></td><td class=\"no-wrap\">-></td><td>196.000</td><td>294.000</td><td>392.000</td><td>490.000</td><td>588.000</td><td>686.000</td><td>784.000</td><td>882.000</td><td>980.000</td><td>1078.000</td><td>...</td><td>8820.000</td><td>8918.000</td><td>9016.000</td><td>9114.000</td><td>9212.000</td><td>9310.000</td><td>9408.000</td><td>9506.000</td><td>9604.000</td><td>9702.000</td></tr><tr><td><b>99</b></td><td class=\"no-wrap\">-></td><td>198.000</td><td>297.000</td><td>396.000</td><td>495.000</td><td>594.000</td><td>693.000</td><td>792.000</td><td>891.000</td><td>990.000</td><td>1089.000</td><td>...</td><td>8910.000</td><td>9009.000</td><td>9108.000</td><td>9207.000</td><td>9306.000</td><td>9405.000</td><td>9504.000</td><td>9603.000</td><td>9702.000</td><td>9801.000</td></tr></tbody>\r\n",
       "</table>\r\n",
       "<br>\r\n",
       "Matrix of 100 rows x 100 columns\r\n",
       "</div>\r\n"
      ]
     },
     "metadata": {},
     "output_type": "display_data"
    }
   ],
   "source": [
    "Matrix.init 100 100 (fun i j -> float i * float j )"
   ]
  }
 ],
 "metadata": {
  "kernelspec": {
   "display_name": ".NET (F#)",
   "language": "F#",
   "name": ".net-fsharp"
  },
  "language_info": {
   "name": "F#"
  }
 },
 "nbformat": 4,
 "nbformat_minor": 2
}
