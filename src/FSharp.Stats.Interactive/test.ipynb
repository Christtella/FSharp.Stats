{
 "cells": [
  {
   "cell_type": "markdown",
   "metadata": {},
   "source": [
    "To reproduce the package, run `./Repack.ps1` in powershell. It will clean your cache in `~/.nuget/packages` and pack the library to `FSharp.Stats/pkg` folder, which you should specify below (absolute paths only) in `#i` line.\n",
    "\n",
    "The version of the package is always `0.0.0-dev`.\n",
    "\n",
    "To rre-run the build/repack you have to restart the notebook kernel, otherwise we cannot remove the referenced local nuget package."
   ]
  },
  {
   "cell_type": "code",
   "execution_count": null,
   "metadata": {
    "dotnet_interactive": {
     "language": "fsharp"
    },
    "vscode": {
     "languageId": "dotnet-interactive.fsharp"
    }
   },
   "outputs": [
    {
     "data": {
      "text/html": [
       "<div><div><strong>Restore sources</strong><ul><li><span> C:/Users/schne/source/repos/fslaborg/FSharp.Stats/pkg</span></li></ul></div><div></div><div><strong>Installed Packages</strong><ul><li><span>FSharp.Stats, 0.0.0-dev</span></li><li><span>FSharp.Stats.Interactive, 0.0.0-dev</span></li></ul></div></div>"
      ]
     },
     "metadata": {},
     "output_type": "display_data"
    },
    {
     "data": {
      "text/markdown": [
       "Loading extensions from `FSharp.Stats.Interactive.dll`"
      ]
     },
     "metadata": {},
     "output_type": "display_data"
    }
   ],
   "source": [
    "// be advised, that you always should set absolute paths for local nuget packages - change this to reflect your own setup\n",
    "#i \"nuget: C:/Users/schne/source/repos/fslaborg/FSharp.Stats/pkg\"\n",
    "#r \"nuget: FSharp.Stats, 0.0.0-dev\"\n",
    "#r \"nuget: FSharp.Stats.Interactive, 0.0.0-dev\""
   ]
  },
  {
   "cell_type": "markdown",
   "metadata": {
    "dotnet_interactive": {
     "language": "fsharp"
    }
   },
   "source": [
    "## Matrix Formatting"
   ]
  },
  {
   "cell_type": "code",
   "execution_count": null,
   "metadata": {
    "dotnet_interactive": {
     "language": "fsharp"
    },
    "vscode": {
     "languageId": "dotnet-interactive.fsharp"
    }
   },
   "outputs": [
    {
     "data": {
      "text/html": [
       "<div>\r\n",
       "<style scoped>,\r\n",
       "  .dataframe tbody tr th:only-of-type {\r\n",
       "    vertical-align: middle;\r\n",
       "  }\r\n",
       "  .dataframe tbody tr th {,\r\n",
       "    vertical-align: top\r\n",
       "  }\r\n",
       "  .dataframe thead th {\r\n",
       "    text-align: right;\r\n",
       "  }\r\n",
       "  .no-wrap {\r\n",
       "    white-space: nowrap;\r\n",
       "  }\r\n",
       "</style>\r\n",
       "<table border='1' class='dataframe'>\r\n",
       "<thead><th></th><th></th><th>0</th><th>1</th><th>2</th><th>3</th><th>4</th></thead>\r\n",
       "<tbody><tr><td>0</td><td>-></td><td>0</td><td>0</td><td>0</td><td>0</td><td>0</td></tr><tr><td>1</td><td>-></td><td>0</td><td>1</td><td>2</td><td>3</td><td>4</td></tr><tr><td>2</td><td>-></td><td>0</td><td>2</td><td>4</td><td>6</td><td>8</td></tr><tr><td>3</td><td>-></td><td>0</td><td>3</td><td>6</td><td>9</td><td>12</td></tr><tr><td>4</td><td>-></td><td>0</td><td>4</td><td>8</td><td>12</td><td>16</td></tr></tbody>\r\n",
       "</table>\r\n",
       "<br>\r\n",
       "Matrix of 5 rows x 5 columns\r\n",
       "</div>\r\n"
      ]
     },
     "metadata": {},
     "output_type": "display_data"
    }
   ],
   "source": [
    "open FSharp.Stats\n",
    "\n",
    "let m = Matrix.init 5 5 (fun i j -> float i * float j )\n",
    "\n",
    "m"
   ]
  },
  {
   "cell_type": "code",
   "execution_count": null,
   "metadata": {
    "dotnet_interactive": {
     "language": "fsharp"
    },
    "vscode": {
     "languageId": "dotnet-interactive.fsharp"
    }
   },
   "outputs": [
    {
     "data": {
      "text/html": [
       "<div>\r\n",
       "<style scoped>,\r\n",
       "  .dataframe tbody tr th:only-of-type {\r\n",
       "    vertical-align: middle;\r\n",
       "  }\r\n",
       "  .dataframe tbody tr th {,\r\n",
       "    vertical-align: top\r\n",
       "  }\r\n",
       "  .dataframe thead th {\r\n",
       "    text-align: right;\r\n",
       "  }\r\n",
       "  .no-wrap {\r\n",
       "    white-space: nowrap;\r\n",
       "  }\r\n",
       "</style>\r\n",
       "<table border='1' class='dataframe'>\r\n",
       "<thead><th></th><th></th><th>0</th><th>1</th><th>2</th><th>3</th><th>4</th><th>5</th><th>6</th><th>7</th><th>8</th><th>9</th></thead>\r\n",
       "<tbody><tr><td>0</td><td>-></td><td>0</td><td>0</td><td>0</td><td>0</td><td>0</td><td>0</td><td>0</td><td>0</td><td>0</td><td>0</td></tr><tr><td>1</td><td>-></td><td>0</td><td>1</td><td>2</td><td>3</td><td>4</td><td>5</td><td>6</td><td>7</td><td>8</td><td>9</td></tr><tr><td>2</td><td>-></td><td>0</td><td>2</td><td>4</td><td>6</td><td>8</td><td>10</td><td>12</td><td>14</td><td>16</td><td>18</td></tr><tr><td>3</td><td>-></td><td>0</td><td>3</td><td>6</td><td>9</td><td>12</td><td>15</td><td>18</td><td>21</td><td>24</td><td>27</td></tr><tr><td>4</td><td>-></td><td>0</td><td>4</td><td>8</td><td>12</td><td>16</td><td>20</td><td>24</td><td>28</td><td>32</td><td>36</td></tr><tr><td>:</td><td>-></td><td>...</td><td>...</td><td>...</td><td>...</td><td>...</td><td>...</td><td>...</td><td>...</td><td>...</td><td>...</td></tr><tr><td>95</td><td>-></td><td>0</td><td>95</td><td>190</td><td>285</td><td>380</td><td>475</td><td>570</td><td>665</td><td>760</td><td>855</td></tr><tr><td>96</td><td>-></td><td>0</td><td>96</td><td>192</td><td>288</td><td>384</td><td>480</td><td>576</td><td>672</td><td>768</td><td>864</td></tr><tr><td>97</td><td>-></td><td>0</td><td>97</td><td>194</td><td>291</td><td>388</td><td>485</td><td>582</td><td>679</td><td>776</td><td>873</td></tr><tr><td>98</td><td>-></td><td>0</td><td>98</td><td>196</td><td>294</td><td>392</td><td>490</td><td>588</td><td>686</td><td>784</td><td>882</td></tr><tr><td>99</td><td>-></td><td>0</td><td>99</td><td>198</td><td>297</td><td>396</td><td>495</td><td>594</td><td>693</td><td>792</td><td>891</td></tr></tbody>\r\n",
       "</table>\r\n",
       "<br>\r\n",
       "Matrix of 100 rows x 10 columns\r\n",
       "</div>\r\n"
      ]
     },
     "metadata": {},
     "output_type": "display_data"
    }
   ],
   "source": [
    "Matrix.init 100 10 (fun i j -> float i * float j )"
   ]
  },
  {
   "cell_type": "code",
   "execution_count": null,
   "metadata": {
    "dotnet_interactive": {
     "language": "fsharp"
    },
    "vscode": {
     "languageId": "dotnet-interactive.fsharp"
    }
   },
   "outputs": [
    {
     "data": {
      "text/html": [
       "<div>\r\n",
       "<style scoped>,\r\n",
       "  .dataframe tbody tr th:only-of-type {\r\n",
       "    vertical-align: middle;\r\n",
       "  }\r\n",
       "  .dataframe tbody tr th {,\r\n",
       "    vertical-align: top\r\n",
       "  }\r\n",
       "  .dataframe thead th {\r\n",
       "    text-align: right;\r\n",
       "  }\r\n",
       "  .no-wrap {\r\n",
       "    white-space: nowrap;\r\n",
       "  }\r\n",
       "</style>\r\n",
       "<table border='1' class='dataframe'>\r\n",
       "<thead><th></th><th></th><th>0</th><th>1</th><th>2</th><th>3</th><th>4</th><th>5</th><th>6</th><th>7</th><th>8</th><th>9</th><th>:</th><th>90</th><th>91</th><th>92</th><th>93</th><th>94</th><th>95</th><th>96</th><th>97</th><th>98</th><th>99</th></thead>\r\n",
       "<tbody><tr><td>0</td><td>-></td><td>0</td><td>0</td><td>0</td><td>0</td><td>0</td><td>0</td><td>0</td><td>0</td><td>0</td><td>0</td><td>...</td><td>0</td><td>0</td><td>0</td><td>0</td><td>0</td><td>0</td><td>0</td><td>0</td><td>0</td><td>0</td></tr><tr><td>1</td><td>-></td><td>0</td><td>1</td><td>2</td><td>3</td><td>4</td><td>5</td><td>6</td><td>7</td><td>8</td><td>9</td><td>...</td><td>90</td><td>91</td><td>92</td><td>93</td><td>94</td><td>95</td><td>96</td><td>97</td><td>98</td><td>99</td></tr><tr><td>2</td><td>-></td><td>0</td><td>2</td><td>4</td><td>6</td><td>8</td><td>10</td><td>12</td><td>14</td><td>16</td><td>18</td><td>...</td><td>180</td><td>182</td><td>184</td><td>186</td><td>188</td><td>190</td><td>192</td><td>194</td><td>196</td><td>198</td></tr><tr><td>3</td><td>-></td><td>0</td><td>3</td><td>6</td><td>9</td><td>12</td><td>15</td><td>18</td><td>21</td><td>24</td><td>27</td><td>...</td><td>270</td><td>273</td><td>276</td><td>279</td><td>282</td><td>285</td><td>288</td><td>291</td><td>294</td><td>297</td></tr><tr><td>4</td><td>-></td><td>0</td><td>4</td><td>8</td><td>12</td><td>16</td><td>20</td><td>24</td><td>28</td><td>32</td><td>36</td><td>...</td><td>360</td><td>364</td><td>368</td><td>372</td><td>376</td><td>380</td><td>384</td><td>388</td><td>392</td><td>396</td></tr><tr><td>5</td><td>-></td><td>0</td><td>5</td><td>10</td><td>15</td><td>20</td><td>25</td><td>30</td><td>35</td><td>40</td><td>45</td><td>...</td><td>450</td><td>455</td><td>460</td><td>465</td><td>470</td><td>475</td><td>480</td><td>485</td><td>490</td><td>495</td></tr><tr><td>6</td><td>-></td><td>0</td><td>6</td><td>12</td><td>18</td><td>24</td><td>30</td><td>36</td><td>42</td><td>48</td><td>54</td><td>...</td><td>540</td><td>546</td><td>552</td><td>558</td><td>564</td><td>570</td><td>576</td><td>582</td><td>588</td><td>594</td></tr><tr><td>7</td><td>-></td><td>0</td><td>7</td><td>14</td><td>21</td><td>28</td><td>35</td><td>42</td><td>49</td><td>56</td><td>63</td><td>...</td><td>630</td><td>637</td><td>644</td><td>651</td><td>658</td><td>665</td><td>672</td><td>679</td><td>686</td><td>693</td></tr><tr><td>8</td><td>-></td><td>0</td><td>8</td><td>16</td><td>24</td><td>32</td><td>40</td><td>48</td><td>56</td><td>64</td><td>72</td><td>...</td><td>720</td><td>728</td><td>736</td><td>744</td><td>752</td><td>760</td><td>768</td><td>776</td><td>784</td><td>792</td></tr><tr><td>9</td><td>-></td><td>0</td><td>9</td><td>18</td><td>27</td><td>36</td><td>45</td><td>54</td><td>63</td><td>72</td><td>81</td><td>...</td><td>810</td><td>819</td><td>828</td><td>837</td><td>846</td><td>855</td><td>864</td><td>873</td><td>882</td><td>891</td></tr></tbody>\r\n",
       "</table>\r\n",
       "<br>\r\n",
       "Matrix of 10 rows x 100 columns\r\n",
       "</div>\r\n"
      ]
     },
     "metadata": {},
     "output_type": "display_data"
    }
   ],
   "source": [
    "Matrix.init 10 100 (fun i j -> float i * float j )"
   ]
  },
  {
   "cell_type": "code",
   "execution_count": null,
   "metadata": {
    "dotnet_interactive": {
     "language": "fsharp"
    },
    "vscode": {
     "languageId": "dotnet-interactive.fsharp"
    }
   },
   "outputs": [
    {
     "data": {
      "text/html": [
       "<div>\r\n",
       "<style scoped>,\r\n",
       "  .dataframe tbody tr th:only-of-type {\r\n",
       "    vertical-align: middle;\r\n",
       "  }\r\n",
       "  .dataframe tbody tr th {,\r\n",
       "    vertical-align: top\r\n",
       "  }\r\n",
       "  .dataframe thead th {\r\n",
       "    text-align: right;\r\n",
       "  }\r\n",
       "  .no-wrap {\r\n",
       "    white-space: nowrap;\r\n",
       "  }\r\n",
       "</style>\r\n",
       "<table border='1' class='dataframe'>\r\n",
       "<thead><th></th><th></th><th>0</th><th>1</th><th>2</th><th>3</th><th>4</th><th>5</th><th>6</th><th>7</th><th>8</th><th>9</th><th>:</th><th>90</th><th>91</th><th>92</th><th>93</th><th>94</th><th>95</th><th>96</th><th>97</th><th>98</th><th>99</th></thead>\r\n",
       "<tbody><tr><td>0</td><td>-></td><td>0</td><td>0</td><td>0</td><td>0</td><td>0</td><td>0</td><td>0</td><td>0</td><td>0</td><td>0</td><td>...</td><td>0</td><td>0</td><td>0</td><td>0</td><td>0</td><td>0</td><td>0</td><td>0</td><td>0</td><td>0</td></tr><tr><td>1</td><td>-></td><td>0</td><td>1</td><td>2</td><td>3</td><td>4</td><td>5</td><td>6</td><td>7</td><td>8</td><td>9</td><td>...</td><td>90</td><td>91</td><td>92</td><td>93</td><td>94</td><td>95</td><td>96</td><td>97</td><td>98</td><td>99</td></tr><tr><td>2</td><td>-></td><td>0</td><td>2</td><td>4</td><td>6</td><td>8</td><td>10</td><td>12</td><td>14</td><td>16</td><td>18</td><td>...</td><td>180</td><td>182</td><td>184</td><td>186</td><td>188</td><td>190</td><td>192</td><td>194</td><td>196</td><td>198</td></tr><tr><td>3</td><td>-></td><td>0</td><td>3</td><td>6</td><td>9</td><td>12</td><td>15</td><td>18</td><td>21</td><td>24</td><td>27</td><td>...</td><td>270</td><td>273</td><td>276</td><td>279</td><td>282</td><td>285</td><td>288</td><td>291</td><td>294</td><td>297</td></tr><tr><td>4</td><td>-></td><td>0</td><td>4</td><td>8</td><td>12</td><td>16</td><td>20</td><td>24</td><td>28</td><td>32</td><td>36</td><td>...</td><td>360</td><td>364</td><td>368</td><td>372</td><td>376</td><td>380</td><td>384</td><td>388</td><td>392</td><td>396</td></tr><tr><td>:</td><td>-></td><td>...</td><td>...</td><td>...</td><td>...</td><td>...</td><td>...</td><td>...</td><td>...</td><td>...</td><td>...</td><td>...</td><td>...</td><td>...</td><td>...</td><td>...</td><td>...</td><td>...</td><td>...</td><td>...</td><td>...</td><td>...</td></tr><tr><td>95</td><td>-></td><td>0</td><td>95</td><td>190</td><td>285</td><td>380</td><td>475</td><td>570</td><td>665</td><td>760</td><td>855</td><td>...</td><td>8550</td><td>8645</td><td>8740</td><td>8835</td><td>8930</td><td>9025</td><td>9120</td><td>9215</td><td>9310</td><td>9405</td></tr><tr><td>96</td><td>-></td><td>0</td><td>96</td><td>192</td><td>288</td><td>384</td><td>480</td><td>576</td><td>672</td><td>768</td><td>864</td><td>...</td><td>8640</td><td>8736</td><td>8832</td><td>8928</td><td>9024</td><td>9120</td><td>9216</td><td>9312</td><td>9408</td><td>9504</td></tr><tr><td>97</td><td>-></td><td>0</td><td>97</td><td>194</td><td>291</td><td>388</td><td>485</td><td>582</td><td>679</td><td>776</td><td>873</td><td>...</td><td>8730</td><td>8827</td><td>8924</td><td>9021</td><td>9118</td><td>9215</td><td>9312</td><td>9409</td><td>9506</td><td>9603</td></tr><tr><td>98</td><td>-></td><td>0</td><td>98</td><td>196</td><td>294</td><td>392</td><td>490</td><td>588</td><td>686</td><td>784</td><td>882</td><td>...</td><td>8820</td><td>8918</td><td>9016</td><td>9114</td><td>9212</td><td>9310</td><td>9408</td><td>9506</td><td>9604</td><td>9702</td></tr><tr><td>99</td><td>-></td><td>0</td><td>99</td><td>198</td><td>297</td><td>396</td><td>495</td><td>594</td><td>693</td><td>792</td><td>891</td><td>...</td><td>8910</td><td>9009</td><td>9108</td><td>9207</td><td>9306</td><td>9405</td><td>9504</td><td>9603</td><td>9702</td><td>9801</td></tr></tbody>\r\n",
       "</table>\r\n",
       "<br>\r\n",
       "Matrix of 100 rows x 100 columns\r\n",
       "</div>\r\n"
      ]
     },
     "metadata": {},
     "output_type": "display_data"
    }
   ],
   "source": [
    "Matrix.init 100 100 (fun i j -> float i * float j )"
   ]
  }
 ],
 "metadata": {
  "kernelspec": {
   "display_name": ".NET (F#)",
   "language": "F#",
   "name": ".net-fsharp"
  },
  "language_info": {
   "name": "F#"
  }
 },
 "nbformat": 4,
 "nbformat_minor": 2
}
