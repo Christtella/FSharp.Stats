{
 "cells": [
  {
   "cell_type": "markdown",
   "metadata": {},
   "source": [
    "To reproduce the package, run `./Repack.ps1` in powershell. It will clean your cache in `~/.nuget/packages` and pack the library to `FSharp.Stats/pkg` folder, which you should specify below (absolute paths only) in `#i` line.\n",
    "\n",
    "The version of the package is always `0.0.0-dev`.\n",
    "\n",
    "To re-run the build/repack you have to restart the notebook kernel, otherwise we cannot remove the referenced local nuget package."
   ]
  },
  {
   "cell_type": "code",
   "execution_count": null,
   "metadata": {
    "dotnet_interactive": {
     "language": "fsharp"
    },
    "vscode": {
     "languageId": "dotnet-interactive.fsharp"
    }
   },
   "outputs": [
    {
     "data": {
      "text/html": [
       "<div><div><strong>Restore sources</strong><ul><li><span> C:/Users/schne/source/repos/fslaborg/FSharp.Stats/pkg</span></li></ul></div><div></div><div><strong>Installed Packages</strong><ul><li><span>FSharp.Stats, 0.0.0-dev</span></li><li><span>FSharp.Stats.Interactive, 0.0.0-dev</span></li></ul></div></div>"
      ]
     },
     "metadata": {},
     "output_type": "display_data"
    },
    {
     "data": {
      "text/markdown": [
       "Loading extensions from `FSharp.Stats.Interactive.dll`"
      ]
     },
     "metadata": {},
     "output_type": "display_data"
    }
   ],
   "source": [
    "// be advised, that you always should set absolute paths for local nuget packages - change this to reflect your own setup\n",
    "#i \"nuget: C:/Users/schne/source/repos/fslaborg/FSharp.Stats/pkg\"\n",
    "#r \"nuget: FSharp.Stats, 0.0.0-dev\"\n",
    "#r \"nuget: FSharp.Stats.Interactive, 0.0.0-dev\""
   ]
  },
  {
   "cell_type": "markdown",
   "metadata": {
    "dotnet_interactive": {
     "language": "fsharp"
    }
   },
   "source": [
    "## Matrix Formatting"
   ]
  },
  {
   "cell_type": "code",
   "execution_count": null,
   "metadata": {
    "dotnet_interactive": {
     "language": "fsharp"
    },
    "vscode": {
     "languageId": "dotnet-interactive.fsharp"
    }
   },
   "outputs": [
    {
     "data": {
      "text/html": [
       "<div>\r\n",
       "<style scoped>,\r\n",
       "  .dataframe tbody tr th:only-of-type {\r\n",
       "    vertical-align: middle;\r\n",
       "  }\r\n",
       "  .dataframe tbody tr th {,\r\n",
       "    vertical-align: top\r\n",
       "  }\r\n",
       "  .dataframe thead th {\r\n",
       "    text-align: right;\r\n",
       "  }\r\n",
       "  .no-wrap {\r\n",
       "    white-space: nowrap;\r\n",
       "  }\r\n",
       "</style>\r\n",
       "<table border='1' class='dataframe'>\r\n",
       "<thead><thead><th></th><th></th><th>0</th><th>1</th><th>2</th><th>3</th><th>4</th><th>5</th><th>6</th><th>7</th><th>8</th><th>9</th></thead></thead>\r\n",
       "<tbody><tr><td><b>0</b></td><td class=\"no-wrap\">-></td><td>00</td><td>01</td><td>02</td><td>03</td><td>04</td><td>05</td><td>06</td><td>07</td><td>08</td><td>09</td></tr><tr><td><b>1</b></td><td class=\"no-wrap\">-></td><td>10</td><td>11</td><td>12</td><td>13</td><td>14</td><td>15</td><td>16</td><td>17</td><td>18</td><td>19</td></tr><tr><td><b>2</b></td><td class=\"no-wrap\">-></td><td>20</td><td>21</td><td>22</td><td>23</td><td>24</td><td>25</td><td>26</td><td>27</td><td>28</td><td>29</td></tr><tr><td><b>3</b></td><td class=\"no-wrap\">-></td><td>30</td><td>31</td><td>32</td><td>33</td><td>34</td><td>35</td><td>36</td><td>37</td><td>38</td><td>39</td></tr><tr><td><b>4</b></td><td class=\"no-wrap\">-></td><td>40</td><td>41</td><td>42</td><td>43</td><td>44</td><td>45</td><td>46</td><td>47</td><td>48</td><td>49</td></tr><tr><td><b>5</b></td><td class=\"no-wrap\">-></td><td>50</td><td>51</td><td>52</td><td>53</td><td>54</td><td>55</td><td>56</td><td>57</td><td>58</td><td>59</td></tr><tr><td><b>6</b></td><td class=\"no-wrap\">-></td><td>60</td><td>61</td><td>62</td><td>63</td><td>64</td><td>65</td><td>66</td><td>67</td><td>68</td><td>69</td></tr><tr><td><b>7</b></td><td class=\"no-wrap\">-></td><td>70</td><td>71</td><td>72</td><td>73</td><td>74</td><td>75</td><td>76</td><td>77</td><td>78</td><td>79</td></tr><tr><td><b>8</b></td><td class=\"no-wrap\">-></td><td>80</td><td>81</td><td>82</td><td>83</td><td>84</td><td>85</td><td>86</td><td>87</td><td>88</td><td>89</td></tr><tr><td><b>9</b></td><td class=\"no-wrap\">-></td><td>90</td><td>91</td><td>92</td><td>93</td><td>94</td><td>95</td><td>96</td><td>97</td><td>98</td><td>99</td></tr></tbody>\r\n",
       "</table>\r\n",
       "<br>\r\n",
       "Matrix of 10 rows x 10 columns\r\n",
       "</div>\r\n"
      ]
     },
     "metadata": {},
     "output_type": "display_data"
    }
   ],
   "source": [
    "open FSharp.Stats\n",
    "\n",
    "Matrix.Generic.init 10 10 (fun r c -> $\"{r}{c}\" )\n"
   ]
  },
  {
   "cell_type": "code",
   "execution_count": null,
   "metadata": {
    "dotnet_interactive": {
     "language": "fsharp"
    },
    "vscode": {
     "languageId": "dotnet-interactive.fsharp"
    }
   },
   "outputs": [
    {
     "data": {
      "text/html": [
       "<div>\r\n",
       "<style scoped>,\r\n",
       "  .dataframe tbody tr th:only-of-type {\r\n",
       "    vertical-align: middle;\r\n",
       "  }\r\n",
       "  .dataframe tbody tr th {,\r\n",
       "    vertical-align: top\r\n",
       "  }\r\n",
       "  .dataframe thead th {\r\n",
       "    text-align: right;\r\n",
       "  }\r\n",
       "  .no-wrap {\r\n",
       "    white-space: nowrap;\r\n",
       "  }\r\n",
       "</style>\r\n",
       "<table border='1' class='dataframe'>\r\n",
       "<thead><thead><th></th><th></th><th>0</th><th>1</th><th>2</th><th>3</th><th>4</th><th>5</th><th>6</th><th>7</th><th>8</th><th>9</th></thead></thead>\r\n",
       "<tbody><tr><td><b>0</b></td><td class=\"no-wrap\">-></td><td>00</td><td>01</td><td>02</td><td>03</td><td>04</td><td>05</td><td>06</td><td>07</td><td>08</td><td>09</td></tr><tr><td><b>1</b></td><td class=\"no-wrap\">-></td><td>10</td><td>11</td><td>12</td><td>13</td><td>14</td><td>15</td><td>16</td><td>17</td><td>18</td><td>19</td></tr><tr><td><b>2</b></td><td class=\"no-wrap\">-></td><td>20</td><td>21</td><td>22</td><td>23</td><td>24</td><td>25</td><td>26</td><td>27</td><td>28</td><td>29</td></tr><tr><td><b>3</b></td><td class=\"no-wrap\">-></td><td>30</td><td>31</td><td>32</td><td>33</td><td>34</td><td>35</td><td>36</td><td>37</td><td>38</td><td>39</td></tr><tr><td><b>4</b></td><td class=\"no-wrap\">-></td><td>40</td><td>41</td><td>42</td><td>43</td><td>44</td><td>45</td><td>46</td><td>47</td><td>48</td><td>49</td></tr><tr><td><b>:</b></td><td class=\"no-wrap\"></td><td>...</td><td>...</td><td>...</td><td>...</td><td>...</td><td>...</td><td>...</td><td>...</td><td>...</td><td>...</td></tr><tr><td><b>95</b></td><td class=\"no-wrap\">-></td><td>950</td><td>951</td><td>952</td><td>953</td><td>954</td><td>955</td><td>956</td><td>957</td><td>958</td><td>959</td></tr><tr><td><b>96</b></td><td class=\"no-wrap\">-></td><td>960</td><td>961</td><td>962</td><td>963</td><td>964</td><td>965</td><td>966</td><td>967</td><td>968</td><td>969</td></tr><tr><td><b>97</b></td><td class=\"no-wrap\">-></td><td>970</td><td>971</td><td>972</td><td>973</td><td>974</td><td>975</td><td>976</td><td>977</td><td>978</td><td>979</td></tr><tr><td><b>98</b></td><td class=\"no-wrap\">-></td><td>980</td><td>981</td><td>982</td><td>983</td><td>984</td><td>985</td><td>986</td><td>987</td><td>988</td><td>989</td></tr><tr><td><b>99</b></td><td class=\"no-wrap\">-></td><td>990</td><td>991</td><td>992</td><td>993</td><td>994</td><td>995</td><td>996</td><td>997</td><td>998</td><td>999</td></tr></tbody>\r\n",
       "</table>\r\n",
       "<br>\r\n",
       "Matrix of 100 rows x 10 columns\r\n",
       "</div>\r\n"
      ]
     },
     "metadata": {},
     "output_type": "display_data"
    }
   ],
   "source": [
    "Matrix.Generic.init 100 10 (fun r c -> $\"{r}{c}\" )\n"
   ]
  },
  {
   "cell_type": "code",
   "execution_count": null,
   "metadata": {
    "dotnet_interactive": {
     "language": "fsharp"
    },
    "vscode": {
     "languageId": "dotnet-interactive.fsharp"
    }
   },
   "outputs": [
    {
     "data": {
      "text/html": [
       "<div>\r\n",
       "<style scoped>,\r\n",
       "  .dataframe tbody tr th:only-of-type {\r\n",
       "    vertical-align: middle;\r\n",
       "  }\r\n",
       "  .dataframe tbody tr th {,\r\n",
       "    vertical-align: top\r\n",
       "  }\r\n",
       "  .dataframe thead th {\r\n",
       "    text-align: right;\r\n",
       "  }\r\n",
       "  .no-wrap {\r\n",
       "    white-space: nowrap;\r\n",
       "  }\r\n",
       "</style>\r\n",
       "<table border='1' class='dataframe'>\r\n",
       "<thead><thead><th></th><th></th><th>0</th><th>1</th><th>2</th><th>3</th><th>4</th><th>5</th><th>6</th><th>7</th><th>8</th><th>9</th><th>...</th><th>90</th><th>91</th><th>92</th><th>93</th><th>94</th><th>95</th><th>96</th><th>97</th><th>98</th><th>99</th></thead></thead>\r\n",
       "<tbody><tr><td><b>0</b></td><td class=\"no-wrap\">-></td><td>00</td><td>01</td><td>02</td><td>03</td><td>04</td><td>05</td><td>06</td><td>07</td><td>08</td><td>09</td><td>...</td><td>090</td><td>091</td><td>092</td><td>093</td><td>094</td><td>095</td><td>096</td><td>097</td><td>098</td><td>099</td></tr><tr><td><b>1</b></td><td class=\"no-wrap\">-></td><td>10</td><td>11</td><td>12</td><td>13</td><td>14</td><td>15</td><td>16</td><td>17</td><td>18</td><td>19</td><td>...</td><td>190</td><td>191</td><td>192</td><td>193</td><td>194</td><td>195</td><td>196</td><td>197</td><td>198</td><td>199</td></tr><tr><td><b>2</b></td><td class=\"no-wrap\">-></td><td>20</td><td>21</td><td>22</td><td>23</td><td>24</td><td>25</td><td>26</td><td>27</td><td>28</td><td>29</td><td>...</td><td>290</td><td>291</td><td>292</td><td>293</td><td>294</td><td>295</td><td>296</td><td>297</td><td>298</td><td>299</td></tr><tr><td><b>3</b></td><td class=\"no-wrap\">-></td><td>30</td><td>31</td><td>32</td><td>33</td><td>34</td><td>35</td><td>36</td><td>37</td><td>38</td><td>39</td><td>...</td><td>390</td><td>391</td><td>392</td><td>393</td><td>394</td><td>395</td><td>396</td><td>397</td><td>398</td><td>399</td></tr><tr><td><b>4</b></td><td class=\"no-wrap\">-></td><td>40</td><td>41</td><td>42</td><td>43</td><td>44</td><td>45</td><td>46</td><td>47</td><td>48</td><td>49</td><td>...</td><td>490</td><td>491</td><td>492</td><td>493</td><td>494</td><td>495</td><td>496</td><td>497</td><td>498</td><td>499</td></tr><tr><td><b>5</b></td><td class=\"no-wrap\">-></td><td>50</td><td>51</td><td>52</td><td>53</td><td>54</td><td>55</td><td>56</td><td>57</td><td>58</td><td>59</td><td>...</td><td>590</td><td>591</td><td>592</td><td>593</td><td>594</td><td>595</td><td>596</td><td>597</td><td>598</td><td>599</td></tr><tr><td><b>6</b></td><td class=\"no-wrap\">-></td><td>60</td><td>61</td><td>62</td><td>63</td><td>64</td><td>65</td><td>66</td><td>67</td><td>68</td><td>69</td><td>...</td><td>690</td><td>691</td><td>692</td><td>693</td><td>694</td><td>695</td><td>696</td><td>697</td><td>698</td><td>699</td></tr><tr><td><b>7</b></td><td class=\"no-wrap\">-></td><td>70</td><td>71</td><td>72</td><td>73</td><td>74</td><td>75</td><td>76</td><td>77</td><td>78</td><td>79</td><td>...</td><td>790</td><td>791</td><td>792</td><td>793</td><td>794</td><td>795</td><td>796</td><td>797</td><td>798</td><td>799</td></tr><tr><td><b>8</b></td><td class=\"no-wrap\">-></td><td>80</td><td>81</td><td>82</td><td>83</td><td>84</td><td>85</td><td>86</td><td>87</td><td>88</td><td>89</td><td>...</td><td>890</td><td>891</td><td>892</td><td>893</td><td>894</td><td>895</td><td>896</td><td>897</td><td>898</td><td>899</td></tr><tr><td><b>9</b></td><td class=\"no-wrap\">-></td><td>90</td><td>91</td><td>92</td><td>93</td><td>94</td><td>95</td><td>96</td><td>97</td><td>98</td><td>99</td><td>...</td><td>990</td><td>991</td><td>992</td><td>993</td><td>994</td><td>995</td><td>996</td><td>997</td><td>998</td><td>999</td></tr></tbody>\r\n",
       "</table>\r\n",
       "<br>\r\n",
       "Matrix of 10 rows x 100 columns\r\n",
       "</div>\r\n"
      ]
     },
     "metadata": {},
     "output_type": "display_data"
    }
   ],
   "source": [
    "Matrix.Generic.init 10 100 (fun r c -> $\"{r}{c}\" )"
   ]
  },
  {
   "cell_type": "code",
   "execution_count": null,
   "metadata": {
    "dotnet_interactive": {
     "language": "fsharp"
    },
    "vscode": {
     "languageId": "dotnet-interactive.fsharp"
    }
   },
   "outputs": [
    {
     "data": {
      "text/html": [
       "<div>\r\n",
       "<style scoped>,\r\n",
       "  .dataframe tbody tr th:only-of-type {\r\n",
       "    vertical-align: middle;\r\n",
       "  }\r\n",
       "  .dataframe tbody tr th {,\r\n",
       "    vertical-align: top\r\n",
       "  }\r\n",
       "  .dataframe thead th {\r\n",
       "    text-align: right;\r\n",
       "  }\r\n",
       "  .no-wrap {\r\n",
       "    white-space: nowrap;\r\n",
       "  }\r\n",
       "</style>\r\n",
       "<table border='1' class='dataframe'>\r\n",
       "<thead><thead><th></th><th></th><th>0</th><th>1</th><th>2</th><th>3</th><th>4</th><th>5</th><th>6</th><th>7</th><th>8</th><th>9</th><th>...</th><th>90</th><th>91</th><th>92</th><th>93</th><th>94</th><th>95</th><th>96</th><th>97</th><th>98</th><th>99</th></thead></thead>\r\n",
       "<tbody><tr><td><b>0</b></td><td class=\"no-wrap\">-></td><td>00</td><td>01</td><td>02</td><td>03</td><td>04</td><td>05</td><td>06</td><td>07</td><td>08</td><td>09</td><td>...</td><td>090</td><td>091</td><td>092</td><td>093</td><td>094</td><td>095</td><td>096</td><td>097</td><td>098</td><td>099</td></tr><tr><td><b>1</b></td><td class=\"no-wrap\">-></td><td>10</td><td>11</td><td>12</td><td>13</td><td>14</td><td>15</td><td>16</td><td>17</td><td>18</td><td>19</td><td>...</td><td>190</td><td>191</td><td>192</td><td>193</td><td>194</td><td>195</td><td>196</td><td>197</td><td>198</td><td>199</td></tr><tr><td><b>2</b></td><td class=\"no-wrap\">-></td><td>20</td><td>21</td><td>22</td><td>23</td><td>24</td><td>25</td><td>26</td><td>27</td><td>28</td><td>29</td><td>...</td><td>290</td><td>291</td><td>292</td><td>293</td><td>294</td><td>295</td><td>296</td><td>297</td><td>298</td><td>299</td></tr><tr><td><b>3</b></td><td class=\"no-wrap\">-></td><td>30</td><td>31</td><td>32</td><td>33</td><td>34</td><td>35</td><td>36</td><td>37</td><td>38</td><td>39</td><td>...</td><td>390</td><td>391</td><td>392</td><td>393</td><td>394</td><td>395</td><td>396</td><td>397</td><td>398</td><td>399</td></tr><tr><td><b>4</b></td><td class=\"no-wrap\">-></td><td>40</td><td>41</td><td>42</td><td>43</td><td>44</td><td>45</td><td>46</td><td>47</td><td>48</td><td>49</td><td>...</td><td>490</td><td>491</td><td>492</td><td>493</td><td>494</td><td>495</td><td>496</td><td>497</td><td>498</td><td>499</td></tr><tr><td><b>:</b></td><td class=\"no-wrap\"></td><td>...</td><td>...</td><td>...</td><td>...</td><td>...</td><td>...</td><td>...</td><td>...</td><td>...</td><td>...</td><td>...</td><td>...</td><td>...</td><td>...</td><td>...</td><td>...</td><td>...</td><td>...</td><td>...</td><td>...</td><td>...</td></tr><tr><td><b>95</b></td><td class=\"no-wrap\">-></td><td>950</td><td>951</td><td>952</td><td>953</td><td>954</td><td>955</td><td>956</td><td>957</td><td>958</td><td>959</td><td>...</td><td>9590</td><td>9591</td><td>9592</td><td>9593</td><td>9594</td><td>9595</td><td>9596</td><td>9597</td><td>9598</td><td>9599</td></tr><tr><td><b>96</b></td><td class=\"no-wrap\">-></td><td>960</td><td>961</td><td>962</td><td>963</td><td>964</td><td>965</td><td>966</td><td>967</td><td>968</td><td>969</td><td>...</td><td>9690</td><td>9691</td><td>9692</td><td>9693</td><td>9694</td><td>9695</td><td>9696</td><td>9697</td><td>9698</td><td>9699</td></tr><tr><td><b>97</b></td><td class=\"no-wrap\">-></td><td>970</td><td>971</td><td>972</td><td>973</td><td>974</td><td>975</td><td>976</td><td>977</td><td>978</td><td>979</td><td>...</td><td>9790</td><td>9791</td><td>9792</td><td>9793</td><td>9794</td><td>9795</td><td>9796</td><td>9797</td><td>9798</td><td>9799</td></tr><tr><td><b>98</b></td><td class=\"no-wrap\">-></td><td>980</td><td>981</td><td>982</td><td>983</td><td>984</td><td>985</td><td>986</td><td>987</td><td>988</td><td>989</td><td>...</td><td>9890</td><td>9891</td><td>9892</td><td>9893</td><td>9894</td><td>9895</td><td>9896</td><td>9897</td><td>9898</td><td>9899</td></tr><tr><td><b>99</b></td><td class=\"no-wrap\">-></td><td>990</td><td>991</td><td>992</td><td>993</td><td>994</td><td>995</td><td>996</td><td>997</td><td>998</td><td>999</td><td>...</td><td>9990</td><td>9991</td><td>9992</td><td>9993</td><td>9994</td><td>9995</td><td>9996</td><td>9997</td><td>9998</td><td>9999</td></tr></tbody>\r\n",
       "</table>\r\n",
       "<br>\r\n",
       "Matrix of 100 rows x 100 columns\r\n",
       "</div>\r\n"
      ]
     },
     "metadata": {},
     "output_type": "display_data"
    }
   ],
   "source": [
    "Matrix.Generic.init 100 100 (fun r c -> $\"{r}{c}\" )"
   ]
  }
 ],
 "metadata": {
  "kernelspec": {
   "display_name": ".NET (F#)",
   "language": "F#",
   "name": ".net-fsharp"
  },
  "language_info": {
   "name": "F#"
  }
 },
 "nbformat": 4,
 "nbformat_minor": 2
}
